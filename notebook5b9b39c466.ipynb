{
  "metadata": {
    "kernelspec": {
      "language": "python",
      "display_name": "Python 3",
      "name": "python3"
    },
    "language_info": {
      "name": "python",
      "version": "3.10.12",
      "mimetype": "text/x-python",
      "codemirror_mode": {
        "name": "ipython",
        "version": 3
      },
      "pygments_lexer": "ipython3",
      "nbconvert_exporter": "python",
      "file_extension": ".py"
    },
    "kaggle": {
      "accelerator": "gpu",
      "dataSources": [
        {
          "sourceId": 67553,
          "databundleVersionId": 7504710,
          "sourceType": "competition"
        }
      ],
      "dockerImageVersionId": 30635,
      "isInternetEnabled": false,
      "language": "python",
      "sourceType": "notebook",
      "isGpuEnabled": true
    },
    "colab": {
      "name": "notebook5b9b39c466",
      "provenance": []
    }
  },
  "nbformat_minor": 0,
  "nbformat": 4,
  "cells": [
    {
      "source": [
        "\n",
        "# IMPORTANT: RUN THIS CELL IN ORDER TO IMPORT YOUR KAGGLE DATA SOURCES\n",
        "# TO THE CORRECT LOCATION (/kaggle/input) IN YOUR NOTEBOOK,\n",
        "# THEN FEEL FREE TO DELETE THIS CELL.\n",
        "# NOTE: THIS NOTEBOOK ENVIRONMENT DIFFERS FROM KAGGLE'S PYTHON\n",
        "# ENVIRONMENT SO THERE MAY BE MISSING LIBRARIES USED BY YOUR\n",
        "# NOTEBOOK.\n",
        "\n",
        "import os\n",
        "import sys\n",
        "from tempfile import NamedTemporaryFile\n",
        "from urllib.request import urlopen\n",
        "from urllib.parse import unquote, urlparse\n",
        "from urllib.error import HTTPError\n",
        "from zipfile import ZipFile\n",
        "import tarfile\n",
        "import shutil\n",
        "\n",
        "CHUNK_SIZE = 40960\n",
        "DATA_SOURCE_MAPPING = 'extracting-attributes-from-fashion-images-jan-2024:https%3A%2F%2Fstorage.googleapis.com%2Fkaggle-competitions-data%2Fkaggle-v2%2F67553%2F7504710%2Fbundle%2Farchive.zip%3FX-Goog-Algorithm%3DGOOG4-RSA-SHA256%26X-Goog-Credential%3Dgcp-kaggle-com%2540kaggle-161607.iam.gserviceaccount.com%252F20240318%252Fauto%252Fstorage%252Fgoog4_request%26X-Goog-Date%3D20240318T170139Z%26X-Goog-Expires%3D259200%26X-Goog-SignedHeaders%3Dhost%26X-Goog-Signature%3D85222fac19d06bf53c29f4de05b9aac1f96118198c2f7cf9b02002a55c96870f9d03a8b34712e45b1aed56ead305ab751e287230d47d395d549a915fb1a98c5ff6332c5c83f8a3b4ebde3395aa1a6faf30401a289a82591f975906f5ad2622439d5876edf7877cb89b74e3276ace0f5add0cf9ac9442bcba3152f474d7d442a1a34868b90d242ab81ea3759762e7ce291e108ca667090d44528681d479f3d2fe66151a0923827e1a9499eecfb3c4619697a11b56318e7a56dfee850b224bef0497a8af75ee26081de1894aa488a5cd31eb3ce43502e6d180a300c7066b92f0a23c994d3eb7396ffdb59ff7333767b438ed2392db3a81a2ae252dd24a1baddfa2'\n",
        "\n",
        "KAGGLE_INPUT_PATH='/kaggle/input'\n",
        "KAGGLE_WORKING_PATH='/kaggle/working'\n",
        "KAGGLE_SYMLINK='kaggle'\n",
        "\n",
        "!umount /kaggle/input/ 2> /dev/null\n",
        "shutil.rmtree('/kaggle/input', ignore_errors=True)\n",
        "os.makedirs(KAGGLE_INPUT_PATH, 0o777, exist_ok=True)\n",
        "os.makedirs(KAGGLE_WORKING_PATH, 0o777, exist_ok=True)\n",
        "\n",
        "try:\n",
        "  os.symlink(KAGGLE_INPUT_PATH, os.path.join(\"..\", 'input'), target_is_directory=True)\n",
        "except FileExistsError:\n",
        "  pass\n",
        "try:\n",
        "  os.symlink(KAGGLE_WORKING_PATH, os.path.join(\"..\", 'working'), target_is_directory=True)\n",
        "except FileExistsError:\n",
        "  pass\n",
        "\n",
        "for data_source_mapping in DATA_SOURCE_MAPPING.split(','):\n",
        "    directory, download_url_encoded = data_source_mapping.split(':')\n",
        "    download_url = unquote(download_url_encoded)\n",
        "    filename = urlparse(download_url).path\n",
        "    destination_path = os.path.join(KAGGLE_INPUT_PATH, directory)\n",
        "    try:\n",
        "        with urlopen(download_url) as fileres, NamedTemporaryFile() as tfile:\n",
        "            total_length = fileres.headers['content-length']\n",
        "            print(f'Downloading {directory}, {total_length} bytes compressed')\n",
        "            dl = 0\n",
        "            data = fileres.read(CHUNK_SIZE)\n",
        "            while len(data) > 0:\n",
        "                dl += len(data)\n",
        "                tfile.write(data)\n",
        "                done = int(50 * dl / int(total_length))\n",
        "                sys.stdout.write(f\"\\r[{'=' * done}{' ' * (50-done)}] {dl} bytes downloaded\")\n",
        "                sys.stdout.flush()\n",
        "                data = fileres.read(CHUNK_SIZE)\n",
        "            if filename.endswith('.zip'):\n",
        "              with ZipFile(tfile) as zfile:\n",
        "                zfile.extractall(destination_path)\n",
        "            else:\n",
        "              with tarfile.open(tfile.name) as tarfile:\n",
        "                tarfile.extractall(destination_path)\n",
        "            print(f'\\nDownloaded and uncompressed: {directory}')\n",
        "    except HTTPError as e:\n",
        "        print(f'Failed to load (likely expired) {download_url} to path {destination_path}')\n",
        "        continue\n",
        "    except OSError as e:\n",
        "        print(f'Failed to load {download_url} to path {destination_path}')\n",
        "        continue\n",
        "\n",
        "print('Data source import complete.')\n"
      ],
      "metadata": {
        "id": "TpDrgxKrgwp1"
      },
      "cell_type": "code",
      "outputs": [],
      "execution_count": null
    },
    {
      "cell_type": "code",
      "source": [
        "# This Python 3 environment comes with many helpful analytics libraries installed\n",
        "# It is defined by the kaggle/python Docker image: https://github.com/kaggle/docker-python\n",
        "# For example, here's several helpful packages to load\n",
        "\n",
        "import numpy as np # linear algebra\n",
        "import pandas as pd # data processing, CSV file I/O (e.g. pd.read_csv)\n",
        "\n",
        "# Input data files are available in the read-only \"../input/\" directory\n",
        "# For example, running this (by clicking run or pressing Shift+Enter) will list all files under the input directory\n",
        "\n",
        "import os\n",
        "for dirname, _, filenames in os.walk('/kaggle/input'):\n",
        "    for filename in filenames:\n",
        "        print(os.path.join(dirname, filename))\n",
        "\n",
        "# You can write up to 20GB to the current directory (/kaggle/working/) that gets preserved as output when you create a version using \"Save & Run All\"\n",
        "# You can also write temporary files to /kaggle/temp/, but they won't be saved outside of the current session"
      ],
      "metadata": {
        "_uuid": "8f2839f25d086af736a60e9eeb907d3b93b6e0e5",
        "_cell_guid": "b1076dfc-b9ad-4769-8c92-a6c4dae69d19",
        "execution": {
          "iopub.status.busy": "2024-01-28T09:08:27.968366Z",
          "iopub.execute_input": "2024-01-28T09:08:27.9687Z",
          "iopub.status.idle": "2024-01-28T09:08:38.461431Z",
          "shell.execute_reply.started": "2024-01-28T09:08:27.968671Z",
          "shell.execute_reply": "2024-01-28T09:08:38.460423Z"
        },
        "trusted": true,
        "id": "pfTeDMTxgwp8"
      },
      "execution_count": null,
      "outputs": []
    },
    {
      "cell_type": "code",
      "source": [
        "import pandas as pd\n",
        "import os\n",
        "import tensorflow as tf\n",
        "from sklearn.model_selection import train_test_split\n",
        "import cv2\n"
      ],
      "metadata": {
        "execution": {
          "iopub.status.busy": "2024-01-28T09:08:38.462996Z",
          "iopub.execute_input": "2024-01-28T09:08:38.463438Z",
          "iopub.status.idle": "2024-01-28T09:08:50.57781Z",
          "shell.execute_reply.started": "2024-01-28T09:08:38.463413Z",
          "shell.execute_reply": "2024-01-28T09:08:50.576775Z"
        },
        "trusted": true,
        "id": "_ceL5o2Igwp9"
      },
      "execution_count": null,
      "outputs": []
    },
    {
      "cell_type": "code",
      "source": [
        "# Load the data\n",
        "train_data = pd.read_csv('/kaggle/input/extracting-attributes-from-fashion-images-jan-2024/train.csv')\n",
        "\n",
        "# Prepare the data\n",
        "X = train_data['file_name']  # Image file names\n",
        "y = train_data['label']  # Class labels"
      ],
      "metadata": {
        "execution": {
          "iopub.status.busy": "2024-01-28T09:08:50.579276Z",
          "iopub.execute_input": "2024-01-28T09:08:50.57998Z",
          "iopub.status.idle": "2024-01-28T09:08:50.618235Z",
          "shell.execute_reply.started": "2024-01-28T09:08:50.579947Z",
          "shell.execute_reply": "2024-01-28T09:08:50.617471Z"
        },
        "trusted": true,
        "id": "bU9gf5AQgwp9"
      },
      "execution_count": null,
      "outputs": []
    },
    {
      "cell_type": "code",
      "source": [
        "# Split the data into training and validation sets\n",
        "X_train, X_val, y_train, y_val = train_test_split(X, y, test_size=0.2)\n"
      ],
      "metadata": {
        "execution": {
          "iopub.status.busy": "2024-01-28T09:08:50.620404Z",
          "iopub.execute_input": "2024-01-28T09:08:50.620691Z",
          "iopub.status.idle": "2024-01-28T09:08:50.630883Z",
          "shell.execute_reply.started": "2024-01-28T09:08:50.620667Z",
          "shell.execute_reply": "2024-01-28T09:08:50.630024Z"
        },
        "trusted": true,
        "id": "0D5TCgzGgwp-"
      },
      "execution_count": null,
      "outputs": []
    },
    {
      "cell_type": "code",
      "source": [
        "# Define data augmentation and preprocessing\n",
        "train_datagen = tf.keras.preprocessing.image.ImageDataGenerator(\n",
        "    rescale=1./255,\n",
        "    rotation_range=0.2,\n",
        "    horizontal_flip=True\n",
        ")"
      ],
      "metadata": {
        "execution": {
          "iopub.status.busy": "2024-01-28T09:08:50.632023Z",
          "iopub.execute_input": "2024-01-28T09:08:50.632383Z",
          "iopub.status.idle": "2024-01-28T09:08:50.739475Z",
          "shell.execute_reply.started": "2024-01-28T09:08:50.632349Z",
          "shell.execute_reply": "2024-01-28T09:08:50.738529Z"
        },
        "trusted": true,
        "id": "YeFVdsQXgwp_"
      },
      "execution_count": null,
      "outputs": []
    },
    {
      "cell_type": "code",
      "source": [
        "val_datagen = tf.keras.preprocessing.image.ImageDataGenerator(rescale=1./255)"
      ],
      "metadata": {
        "execution": {
          "iopub.status.busy": "2024-01-28T09:08:50.740607Z",
          "iopub.execute_input": "2024-01-28T09:08:50.74091Z",
          "iopub.status.idle": "2024-01-28T09:08:50.74573Z",
          "shell.execute_reply.started": "2024-01-28T09:08:50.740869Z",
          "shell.execute_reply": "2024-01-28T09:08:50.744588Z"
        },
        "trusted": true,
        "id": "6ssdGydWgwp_"
      },
      "execution_count": null,
      "outputs": []
    },
    {
      "cell_type": "code",
      "source": [
        "# Convert numeric labels to strings\n",
        "train_data['label'] = train_data['label'].astype(str)\n",
        "\n",
        "# Create the train generator\n",
        "train_generator = train_datagen.flow_from_dataframe(\n",
        "    dataframe=train_data,\n",
        "    x_col='file_name',\n",
        "    y_col='label',\n",
        "    directory='/kaggle/input/extracting-attributes-from-fashion-images-jan-2024/train',\n",
        "    shuffle=True,\n",
        "    target_size=(28, 28),\n",
        "    batch_size=32,\n",
        "    class_mode='sparse'\n",
        ")\n"
      ],
      "metadata": {
        "execution": {
          "iopub.status.busy": "2024-01-28T09:08:50.747239Z",
          "iopub.execute_input": "2024-01-28T09:08:50.74758Z",
          "iopub.status.idle": "2024-01-28T09:08:58.716587Z",
          "shell.execute_reply.started": "2024-01-28T09:08:50.747544Z",
          "shell.execute_reply": "2024-01-28T09:08:58.715755Z"
        },
        "trusted": true,
        "id": "oniDwAeigwqA"
      },
      "execution_count": null,
      "outputs": []
    },
    {
      "cell_type": "code",
      "source": [
        "val_generator = val_datagen.flow_from_dataframe(\n",
        "    dataframe=train_data,\n",
        "    x_col=\"file_name\",\n",
        "    y_col=\"label\",\n",
        "    directory='/kaggle/input/extracting-attributes-from-fashion-images-jan-2024/train',\n",
        "    subset=\"validation\",  # Use the validation subset of the data\n",
        "    shuffle=True,\n",
        "    target_size=(28, 28),  # Update the target size if needed\n",
        "    batch_size=32,\n",
        "    class_mode='sparse'\n",
        ")"
      ],
      "metadata": {
        "execution": {
          "iopub.status.busy": "2024-01-28T09:08:58.717587Z",
          "iopub.execute_input": "2024-01-28T09:08:58.717842Z",
          "iopub.status.idle": "2024-01-28T09:09:06.800579Z",
          "shell.execute_reply.started": "2024-01-28T09:08:58.717813Z",
          "shell.execute_reply": "2024-01-28T09:09:06.799597Z"
        },
        "trusted": true,
        "id": "egHc-bKcgwqB"
      },
      "execution_count": null,
      "outputs": []
    },
    {
      "cell_type": "code",
      "source": [
        "# Define the CNN model architecture\n",
        "model = tf.keras.Sequential([\n",
        "    tf.keras.layers.Conv2D(32, 3, activation='relu', input_shape=(28, 28, 3)),\n",
        "    tf.keras.layers.MaxPooling2D(),\n",
        "    tf.keras.layers.Conv2D(64, 3, activation='relu'),\n",
        "    tf.keras.layers.MaxPooling2D(),\n",
        "    tf.keras.layers.Flatten(),\n",
        "    tf.keras.layers.Dense(128, activation='relu'),\n",
        "    tf.keras.layers.Dense(7, activation='softmax')\n",
        "])"
      ],
      "metadata": {
        "execution": {
          "iopub.status.busy": "2024-01-28T09:09:06.801737Z",
          "iopub.execute_input": "2024-01-28T09:09:06.802019Z",
          "iopub.status.idle": "2024-01-28T09:09:07.961668Z",
          "shell.execute_reply.started": "2024-01-28T09:09:06.801995Z",
          "shell.execute_reply": "2024-01-28T09:09:07.960914Z"
        },
        "trusted": true,
        "id": "Ixu8XVihgwqB"
      },
      "execution_count": null,
      "outputs": []
    },
    {
      "cell_type": "code",
      "source": [
        "# Compile the model\n",
        "model.compile(optimizer='adam',\n",
        "              loss='sparse_categorical_crossentropy',\n",
        "              metrics=['accuracy'])"
      ],
      "metadata": {
        "execution": {
          "iopub.status.busy": "2024-01-28T09:09:07.964188Z",
          "iopub.execute_input": "2024-01-28T09:09:07.964475Z",
          "iopub.status.idle": "2024-01-28T09:09:07.980057Z",
          "shell.execute_reply.started": "2024-01-28T09:09:07.964451Z",
          "shell.execute_reply": "2024-01-28T09:09:07.979191Z"
        },
        "trusted": true,
        "id": "aNowyNo3gwqC"
      },
      "execution_count": null,
      "outputs": []
    },
    {
      "cell_type": "code",
      "source": [
        "# Train the model\n",
        "history = model.fit(\n",
        "    train_generator,\n",
        "    validation_data=val_generator,\n",
        "    epochs=30\n",
        ")"
      ],
      "metadata": {
        "execution": {
          "iopub.status.busy": "2024-01-28T09:09:07.981084Z",
          "iopub.execute_input": "2024-01-28T09:09:07.981344Z",
          "iopub.status.idle": "2024-01-28T09:44:45.825274Z",
          "shell.execute_reply.started": "2024-01-28T09:09:07.981314Z",
          "shell.execute_reply": "2024-01-28T09:44:45.824318Z"
        },
        "trusted": true,
        "id": "lCMEmg_cgwqC"
      },
      "execution_count": null,
      "outputs": []
    },
    {
      "cell_type": "code",
      "source": [
        "import cv2\n",
        "abs_train_path = '/kaggle/input/extracting-attributes-from-fashion-images-jan-2024/train.csv'\n",
        "abs_train_directory = '/kaggle/input/extracting-attributes-from-fashion-images-jan-2024/train'\n",
        "abs_test_path = '/kaggle/input/extracting-attributes-from-fashion-images-jan-2024/sample_submission.csv'\n",
        "abs_test_directory = '/kaggle/input/extracting-attributes-from-fashion-images-jan-2024/test'\n",
        "\n",
        "df2 = pd.read_csv(abs_test_path)\n",
        "\n",
        "X_test = []\n",
        "\n",
        "# Resize and convert to grayscale for the test set\n",
        "for i in range(df2.shape[0]):\n",
        "    img = cv2.imread(os.path.join(abs_test_directory, df2.iloc[i]['file_name']), cv2.IMREAD_GRAYSCALE)\n",
        "\n",
        "    img_resized = cv2.resize(img, (28, 28))\n",
        "\n",
        "    # Convert to RGB format by duplicating the single channel\n",
        "    img_resized = cv2.cvtColor(img_resized, cv2.COLOR_GRAY2RGB)\n",
        "    if i%100 ==0:\n",
        "        print(i)\n",
        "    X_test.append(img_resized)\n",
        "    if i % 100 == 0:\n",
        "        print(i)\n",
        "\n",
        "X_test_np = np.array(X_test)"
      ],
      "metadata": {
        "execution": {
          "iopub.status.busy": "2024-01-28T10:03:49.178236Z",
          "iopub.execute_input": "2024-01-28T10:03:49.178614Z"
        },
        "trusted": true,
        "id": "soKeL50IgwqC"
      },
      "execution_count": null,
      "outputs": []
    },
    {
      "cell_type": "code",
      "source": [
        "predictions = model.predict(X_test_np)\n",
        "predicted_labels = tf.argmax(predictions, axis=1).numpy()"
      ],
      "metadata": {
        "execution": {
          "iopub.status.busy": "2024-01-28T10:03:14.557769Z",
          "iopub.execute_input": "2024-01-28T10:03:14.558589Z",
          "iopub.status.idle": "2024-01-28T10:03:15.960528Z",
          "shell.execute_reply.started": "2024-01-28T10:03:14.55856Z",
          "shell.execute_reply": "2024-01-28T10:03:15.959288Z"
        },
        "trusted": true,
        "id": "Qe53q6zmgwqD"
      },
      "execution_count": null,
      "outputs": []
    },
    {
      "cell_type": "code",
      "source": [
        "import pandas as pd\n",
        "\n",
        "# Create a DataFrame with the file_name and label columns\n",
        "df_output = pd.DataFrame({'file_name': df2[\"file_name\"], 'label': predicted_labels})\n",
        "\n",
        "# Save the DataFrame to a CSV file\n",
        "df_output.to_csv('output21.csv', index=False)"
      ],
      "metadata": {
        "execution": {
          "iopub.status.busy": "2024-01-28T09:47:18.685271Z",
          "iopub.execute_input": "2024-01-28T09:47:18.686145Z",
          "iopub.status.idle": "2024-01-28T09:47:18.723263Z",
          "shell.execute_reply.started": "2024-01-28T09:47:18.68611Z",
          "shell.execute_reply": "2024-01-28T09:47:18.721978Z"
        },
        "trusted": true,
        "id": "bwZ6js6BgwqD"
      },
      "execution_count": null,
      "outputs": []
    }
  ]
}